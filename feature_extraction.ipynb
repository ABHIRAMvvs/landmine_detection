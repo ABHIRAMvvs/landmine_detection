{
 "cells": [
  {
   "cell_type": "code",
   "execution_count": null,
   "metadata": {},
   "outputs": [],
   "source": [
    "import os\n",
    "import cv2\n",
    "\n",
    "# Function to load ROIs from a folder\n",
    "def load_rois_from_folder(folder_path):\n",
    "    rois = []\n",
    "    for filename in os.listdir(folder_path):\n",
    "        img_path = os.path.join(folder_path, filename)\n",
    "        roi = cv2.imread(img_path, cv2.IMREAD_GRAYSCALE)\n",
    "        rois.append(roi)\n",
    "    return rois\n",
    "\n",
    "# Define paths to folders containing ROIs\n",
    "landmine_folder = r'C:\\Users\\Saiab\\Desktop\\landmine_detection\\feature extraction\\landmine'\n",
    "non_landmine_folder = r'C:\\Users\\Saiab\\Desktop\\landmine_detection\\feature extraction\\non landmine'\n",
    "\n",
    "# Load ROIs from folders\n",
    "landmine_rois = load_rois_from_folder(landmine_folder)\n",
    "non_landmine_rois = load_rois_from_folder(non_landmine_folder)\n",
    "\n",
    "# Placeholder for extracted features\n",
    "all_features = []\n",
    "\n",
    "# Extract features from landmine ROIs\n",
    "for roi in landmine_rois:\n",
    "    roi_features = extract_features(roi)\n",
    "    all_features.append(roi_features)\n",
    "\n",
    "# Extract features from non-landmine ROIs\n",
    "for roi in non_landmine_rois:\n",
    "    roi_features = extract_features(roi)\n",
    "    all_features.append(roi_features)\n",
    "\n",
    "# Convert feature list to numpy array\n",
    "all_features = np.array(all_features)\n",
    "\n",
    "# Feature normalization (assuming features are in range [0, 1])\n",
    "min_val = np.min(all_features, axis=0)\n",
    "max_val = np.max(all_features, axis=0)\n",
    "normalized_features = (all_features - min_val) / (max_val - min_val)\n",
    "\n",
    "# Feature selection using Fisher Discriminant Ratio (FDR) criterion\n",
    "selected_indices = [0, 1, 2, 3, 4, 5, 6, 10]  # indices of selected features\n",
    "selected_features = normalized_features[:, selected_indices]\n",
    "\n",
    "# Now selected_features contains the features selected based on FDR criterion and scalar selection technique\n"
   ]
  }
 ],
 "metadata": {
  "language_info": {
   "name": "python"
  }
 },
 "nbformat": 4,
 "nbformat_minor": 2
}
